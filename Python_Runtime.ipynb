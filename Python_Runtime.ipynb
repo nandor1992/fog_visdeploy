{
 "cells": [
  {
   "cell_type": "markdown",
   "metadata": {},
   "source": [
    "# Example of Running Java Classes from Python\n",
    "\n",
    "- At this point the outputs go into the jupyter command line window due to some incompatibilities, this is not an issue if you run the python code natively\n",
    "\n",
    "## Initialising Java"
   ]
  },
  {
   "cell_type": "code",
   "execution_count": 1,
   "metadata": {},
   "outputs": [],
   "source": [
    "import jpype\n",
    "import os,sys\n",
    "import ast\n",
    "import matplotlib.pyplot as plt\n",
    "\n",
    "java_class_location=\"C:\\\\Users\\\\Nandor Verba\\\\Documents\\\\Work\\\\Optimisation Paper\\\\Fog_VisDep\\\\JavaDeployer\\\\target\\\\fog_deployer-0.0.1-SNAPSHOT.jar\"\n",
    "java_package_name = \"org.nandor.fog_deployer\"\n",
    "\n",
    "deployments_folder =\"C:\\\\Users\\\\Nandor Verba\\\\Documents\\\\Work\\\\Optimisation Paper\\\\Fog_VisDep\\\\deployments\"\n",
    "\n",
    "\n",
    "\n",
    "#If Not defined\n",
    "java_path=\"C:\\\\Program Files\\\\Java\\\\jdk-15\\\\bin\\\\server\\\\jvm.dll\"\n",
    "\n",
    "\n",
    "#Class Options\n",
    "cpopt=\"-Djava.class.path=%s\" % (java_class_location)\n",
    "\n",
    "try:\n",
    "    #If defined\n",
    "    jpype.startJVM(getDefaultJVMPath(),\"-ea\",cpopt,convertStrings=False)\n",
    "except NameError :\n",
    "    #If Not defined\n",
    "    jpype.startJVM(java_path,\"-ea\",cpopt,convertStrings=False)\n",
    "    "
   ]
  },
  {
   "cell_type": "markdown",
   "metadata": {},
   "source": [
    "## Initialise and Save DIffrent types of Fog Deployment start Points"
   ]
  },
  {
   "cell_type": "code",
   "execution_count": 2,
   "metadata": {},
   "outputs": [
    {
     "name": "stdout",
     "output_type": "stream",
     "text": [
      "Initialised Fog Environment with Delay minimisation scenario:\n",
      " Name: Delay Fog; Clusters:[1, 2, 3, 4]; Gateways:[1, 2, 3, 4, 5, 6, 7]; Apps:[1, 2, 3, 4, 5, 6, 7, 8, 9, 10, 11, 12, 13, 14, 15, 16, 17, 18, 19, 20]; Resources:[1, 2, 3, 4, 5, 6, 7, 8, 9, 10, 11, 12, 13, 14, 15, 16, 17, 18, 19, 20, 21, 22, 23, 24, 25, 26, 27, 28, 29, 30, 31, 32, 33, 34, 35, 36, 37, 38, 39, 40, 41, 42, 43, 44, 45, 46, 47, 48] \n",
      "\n",
      "Initialised Fog Environment with Multi-Objective scenario:\n",
      " Name: Multi Fog; Clusters:[5, 6, 7]; Gateways:[1, 2, 3, 4, 5, 6, 7]; Apps:[1, 2, 3, 4, 5, 6, 7, 8, 9, 10, 11, 12, 13, 14, 15, 16, 17, 18, 19, 20]; Resources:[1, 2, 3, 4, 5, 6, 7, 8, 9, 10, 11, 12, 13, 14, 15, 16, 17, 18, 19, 20, 21, 22, 23, 24, 25, 26, 27, 28, 29, 30, 31, 32, 33, 34, 35, 36, 37] \n",
      "\n",
      "Initialised Fog Environment with Multi-Objective and Constraints scenario:\n",
      " Name: Requirement Fog; Clusters:[8, 9, 10]; Gateways:[1, 2, 3, 4, 5, 6, 7]; Apps:[1, 2, 3, 4, 5, 6, 7, 8, 9, 10, 11, 12, 13, 14, 15, 16, 17, 18, 19, 20]; Resources:[1, 2, 3, 4, 5, 6, 7, 8, 9, 10, 11, 12, 13, 14, 15, 16, 17, 18, 19, 20, 21, 22, 23, 24, 25, 26, 27, 28, 29, 30, 31, 32, 33, 34, 35, 36, 37, 38, 39, 40, 41, 42, 43, 44, 45, 46, 47, 48, 49] \n",
      "\n"
     ]
    }
   ],
   "source": [
    "#Fog Size in Apps\n",
    "fog_size = 20\n",
    "\n",
    "#Delay Scenario\n",
    "fog_init_delay = jpype.JClass(java_package_name+\".Methods\").InitDelayFog(fog_size)\n",
    "ret_json = jpype.JClass(java_package_name+\".Exporter\").writeJsonFog(fog_init_delay)\n",
    "print(\"Initialised Fog Environment with Delay minimisation scenario:\\n\",fog_init_delay,\"\\n\")\n",
    "with open(os.path.join(deployments_folder,\"init_delay_fog_size\"+str(fog_size)+\".json\"), \"w\") as text_file:\n",
    "    text_file.write(str(ret_json))\n",
    "\n",
    "#multi_parameter Scenario\n",
    "fog_init_multi = jpype.JClass(java_package_name+\".Methods\").InitMultiFog(fog_size)\n",
    "ret_json = jpype.JClass(java_package_name+\".Exporter\").writeJsonFog(fog_init_multi)\n",
    "print(\"Initialised Fog Environment with Multi-Objective scenario:\\n\",fog_init_multi,\"\\n\")\n",
    "with open(os.path.join(deployments_folder,\"init_multi_fog_size\"+str(fog_size)+\".json\"), \"w\") as text_file:\n",
    "    text_file.write(str(ret_json))\n",
    "    \n",
    "#constraint and multi Scenario   \n",
    "fog_init_const = jpype.JClass(java_package_name+\".Methods\").InitReqFog(fog_size)\n",
    "ret_json = jpype.JClass(java_package_name+\".Exporter\").writeJsonFog(fog_init_const)\n",
    "print(\"Initialised Fog Environment with Multi-Objective and Constraints scenario:\\n\",fog_init_const,\"\\n\")\n",
    "with open(os.path.join(deployments_folder,\"init_constraint_fog_size\"+str(fog_size)+\".json\"), \"w\") as text_file:\n",
    "    text_file.write(str(ret_json))"
   ]
  },
  {
   "cell_type": "markdown",
   "metadata": {},
   "source": [
    "## Scenario deployment and optimsiation\n",
    "\n",
    "Scenario types:\n",
    "- 1 - GA\n",
    "- 2 - Distance Clustering (No Weights)\n",
    "- 3 - Sample Based Distance Clustering \n",
    "- 4 - Initial Weights based Distance Clustering\n",
    "- 5 - Random Deployments "
   ]
  },
  {
   "cell_type": "code",
   "execution_count": 3,
   "metadata": {},
   "outputs": [
    {
     "name": "stdout",
     "output_type": "stream",
     "text": [
      "Initialised Fog Environment with Multi-Objective scenario:\n",
      " Name: Multi Fog; Clusters:[16, 17, 18, 11, 12, 13, 14, 15]; Gateways:[1, 2, 3, 4, 5, 6, 7, 8, 9, 10, 11, 12, 13, 14]; Apps:[1, 2, 3, 4, 5, 6, 7, 8, 9, 10, 11, 12, 13, 14, 15, 16, 17, 18, 19, 20, 21, 22, 23, 24, 25, 26, 27, 28, 29, 30, 31, 32, 33, 34, 35, 36, 37, 38, 39, 40]; Resources:[1, 2, 3, 4, 5, 6, 7, 8, 9, 10, 11, 12, 13, 14, 15, 16, 17, 18, 19, 20, 21, 22, 23, 24, 25, 26, 27, 28, 29, 30, 31, 32, 33, 34, 35, 36, 37, 38, 39, 40, 41, 42, 43, 44, 45, 46, 47, 48, 49, 50, 51, 52, 53, 54, 55, 56, 57, 58, 59, 60, 61, 62, 63, 64, 65, 66, 67, 68, 69, 70, 71, 72, 73, 74, 75, 76, 77, 78, 79, 80, 81, 82, 83, 84, 85, 86, 87] \n",
      "\n",
      "Starting Utility:  25.282289505004883\n",
      "GA Utility:  39.82333755493164\n",
      "DistClust Utility:  40.58885192871094\n",
      "SampleClust Utility:  30.955366134643555\n",
      "InitWeight Utility:  32.56494140625\n",
      "Random Utility:  37.757904052734375\n"
     ]
    }
   ],
   "source": [
    "fog_size = 40\t\n",
    "\n",
    "##Init Fog \n",
    "#multi_parameter Scenario\n",
    "fog_init_multi = jpype.JClass(java_package_name+\".Methods\").InitMultiFog(fog_size)\n",
    "fog_json = jpype.JClass(java_package_name+\".Exporter\").writeJsonFog(fog_init_multi).toJSONString();\n",
    "print(\"Initialised Fog Environment with Multi-Objective scenario:\\n\",fog_init_multi,\"\\n\")\n",
    "with open(os.path.join(deployments_folder,\"opt_init_multi_fog_size\"+str(fog_size)+\".json\"), \"w\") as text_file:\n",
    "    text_file.write(str(fog_json))\n",
    "print(\"Starting Utility: \",fog_init_multi.getFogCompoundUtility())\n",
    "\n",
    "dict_types = {\"GA\":1,\"DistClust\":2,\"SampleClust\":3,\"InitWeight\":4,\"Random\":5}\n",
    "\n",
    "for d_type in dict_types:\n",
    "\n",
    "    optimised_depl = jpype.JClass(java_package_name+\".Main\").getSampleDeployments(str(fog_json),dict_types[d_type]) #Fog Json, Optimisation Type\n",
    "    ret_json = jpype.JClass(java_package_name+\".Exporter\").writeJsonFog(optimised_depl).toJSONString();\n",
    "    with open(os.path.join(deployments_folder,\"opt_\"+d_type+\"_multi_fog_size\"+str(fog_size)+\".json\"), \"w\") as text_file:\n",
    "        text_file.write(str(ret_json))\n",
    "\n",
    "    print(d_type+\" Utility: \",optimised_depl.getFogCompoundUtility())\n"
   ]
  },
  {
   "cell_type": "markdown",
   "metadata": {},
   "source": [
    "## Performance Analysis"
   ]
  },
  {
   "cell_type": "code",
   "execution_count": 4,
   "metadata": {},
   "outputs": [
    {
     "data": {
      "image/png": "[encoded data removed]",
      "text/plain": [
       "<Figure size 432x288 with 1 Axes>"
      ]
     },
     "metadata": {
      "needs_background": "light"
     },
     "output_type": "display_data"
    }
   ],
   "source": [
    "size =1; #0-20;1-80;2-320;\n",
    "sceType = 2; #Scenario Type 1-Delay 2-Multi 3-Capab\n",
    "meType = 0; #MethodType //0Everything//1Ga//2Dist//3Samp//4Ini//5Random\n",
    "\n",
    "perf_analysis_res = jpype.JClass(java_package_name+\".Methods\").PerformanceAnalysis(size,sceType,meType).toJSONString()\n",
    "#print(perf_analysis_res)\n",
    "\n",
    "json_resp = ast.literal_eval(\"[\"+str(perf_analysis_res)+\"]\")\n",
    "\n",
    "types = {\"Dist\":\"--^b\", \"Sample\":\"--^r\",\"Init\":\"--^c\",\"GA\":\"--g\",\"Random\":\"--^y\" }\n",
    "for t in types:\n",
    "    if t+'_execTime' in json_resp[0]:\n",
    "        plt.plot(json_resp[0][t+'_execTime'],json_resp[0][t+'_utility'],types[t],label = t)\n",
    "plt.ylabel('Fog Utility')\n",
    "plt.xlabel('Execution Time (s)')\n",
    "plt.legend()\n",
    "plt.grid()\n",
    "plt.yscale('log')\n",
    "plt.show()"
   ]
  },
  {
   "cell_type": "markdown",
   "metadata": {},
   "source": [
    "## Stopping Kernel"
   ]
  },
  {
   "cell_type": "code",
   "execution_count": 5,
   "metadata": {},
   "outputs": [],
   "source": [
    "jpype.shutdownJVM()"
   ]
  }
 ],
 "metadata": {
  "kernelspec": {
   "display_name": "Python 3",
   "language": "python",
   "name": "python3"
  },
  "language_info": {
   "codemirror_mode": {
    "name": "ipython",
    "version": 3
   },
   "file_extension": ".py",
   "mimetype": "text/x-python",
   "name": "python",
   "nbconvert_exporter": "python",
   "pygments_lexer": "ipython3",
   "version": "3.7.6"
  }
 },
 "nbformat": 4,
 "nbformat_minor": 4
}
